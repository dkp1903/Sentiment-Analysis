{
 "cells": [
  {
   "cell_type": "markdown",
   "metadata": {},
   "source": [
    "# Sentiment Analysis using Python; Twitter on the upcoming James Bond movie\n",
    "## Introduction\n",
    "\n",
    "James Bond is one of the longest continually-running film series in history, having been in on-going production from 1962 to the present. The upcoming movie titled as \"No Time To Die\" (25th instalment) goes out on April 2020 and while it is much anticipated, it may be wise (for the production) to take a census of the audience's desires and adapt the montage procedure accordingly. In this context, Sentiment Analysis could become a valuable tool...\n",
    "\n",
    "In brief, Sentiment Analysis refers to a set of techniques used to identify and extract subjective information from a large source-dataset, usually comprised of text. The final scope is to study the \"mined\" material in a deep and thorough, yet comprehensive for human beings, way that may outcome considerable insights of the social sentiment upon various topics.\n",
    "\n",
    "**Scope**: \n",
    "This project aims to establish a basic implementation of sentiment analysis on Twitter data with Python, in order to determine the attitude of the audience upon the upcoming James Bond movie \"No Time to Die\", earliest referred to as #Bond25. We are going to use a series of free Python libraries (Pandas, Tweepy, TextBlob) and the Twitter API for data collection (web scraping), depicting finally a couple of data visualizations to better communicate the nuanced narrative of the findings. \n",
    "\n",
    "Additionally, we investigate any underlying trends of sentiment across specific countries, answering questions like: *Are the British people more inclined to be in favour of their traditional agent due to his origin? How does the Americans position themselves against a blockbuster that does not belong to their Hollywood system?*\n",
    "\n",
    "[*It stands as an independent analysis in an effort to enhance my ability to communicate results, reason about data and stay motivated to continuously implement newly aquired skills & capabilities, so as to enrich my portfolio of data science-oriented projects*]"
   ]
  },
  {
   "cell_type": "markdown",
   "metadata": {},
   "source": [
    "## I. Set Up\n",
    "Firstly, we  import the Tweepy and Pandas libraries in the Jupyter notebook file and right next we proceed to the authentication:"
   ]
  },
  {
   "cell_type": "code",
   "execution_count": 1,
   "metadata": {},
   "outputs": [],
   "source": [
    "# Import the libraries\n",
    "import tweepy\n",
    "import pandas as pd"
   ]
  },
  {
   "cell_type": "code",
   "execution_count": 2,
   "metadata": {},
   "outputs": [],
   "source": [
    "# Authentication\n",
    "consumer_key = '12GMddCerYjkU3UpRdwqYtpy2gJ' \n",
    "consumer_secret = 'Q88Ytpy2gJrYy2jJtkkU3UpwqY'\n",
    "access_token = 'B4BDDwqerYpwy2qrderYpwy2wqYtpy2gJ'\n",
    "access_token_secret = 'klYU3UpwBpjJtdCerYkk4BDDwm'"
   ]
  },
  {
   "cell_type": "markdown",
   "metadata": {},
   "source": [
    "The keys and tokens are indicative. Both are private and should be treated likewise, as they are connected to your personal Twitter account.\n",
    "\n",
    "We then create an 'OAuthHandler' instance and next pass it into the API method, as follows:"
   ]
  },
  {
   "cell_type": "code",
   "execution_count": 3,
   "metadata": {},
   "outputs": [],
   "source": [
    "# Create an OAuthHandler instance\n",
    "auth = tweepy.OAuthHandler(consumer_key, consumer_secret)\n",
    "auth.set_access_token(access_token, access_token_secret)"
   ]
  },
  {
   "cell_type": "code",
   "execution_count": 4,
   "metadata": {},
   "outputs": [],
   "source": [
    "# Pass the OAuthHandler instance into the API method\n",
    "api = tweepy.API(auth)"
   ]
  },
  {
   "cell_type": "markdown",
   "metadata": {},
   "source": [
    "We are now ready to test for the functionality of querring the Twitter API (making requests to the remote web server and retrieving the data we need). We run the following code snippet, which basically returns our timeline right at the moment:"
   ]
  },
  {
   "cell_type": "code",
   "execution_count": 32,
   "metadata": {
    "scrolled": true
   },
   "outputs": [
    {
     "name": "stdout",
     "output_type": "stream",
     "text": [
      "Likelihood T. Prior @JAMANetworkOpen @yudapearl https://t.co/xvbIHDpJoi\n",
      "Archonsec RT @GeekOnTheLoose: Happy #Festivus, people.\n",
      "\n",
      "@robmay70 @sewcraftyme @ravici @SpaceForceCad @SpiritualDiabet @KindaBirdBraind @DrJDrooghaag…\n",
      "🌍🌎 un ciudadano global☝️🌏👨‍🎓😅 RT @Koketso_Dikane: Thought I should make a thread for people that find it hard to understand why I have so little faith in God and why I d…\n",
      "Likelihood T. Prior 9 out of 10 of the most talked about @JAMANetworkOpen papers of 2010 are \"association\" studies. Feeling @yudapearl… https://t.co/1tMk7Y6DSf\n",
      "Programming Wisdom \"Sometimes it pays to stay in bed on Monday, rather than spending the rest of the week debugging Monday's code.\" - Christopher Thompson\n",
      "Rstats RT @nordholmen: @gvwilson @StatGarrett Indeed great method. I got to know it for #rstats as \"vignette-driven development\" by @edzerpebesma.\n",
      "Rstats RT @LindsayRCPlatt: A #reproducible #rstats #waterscience holiday card. It just doesn't get any cooler than that🎄 https://t.co/5USMym9bcI\n",
      "Rstats RT @felipe_mattioni: enjoying some extra free time now at the end of the year and updating my CV based on this amazing template by @Nichola…\n",
      "Rstats RT @petra_kuhnert: I have been playing with the brolgar package by @nj_tierney to explore past daily total rainfall measurements in the NT…\n",
      "Rstats RT @tidyversetweets: Use Shiny apps as part of an R package #tidyverse #rstats https://t.co/4ywCfbnBsv\n",
      "Rstats RT @tidyversetweets: Error while using str_split in mutate on multiple columns #tidyverse #rstats https://t.co/iD1yPH3zSw\n",
      "Rstats RT @clinarmo: An Introvert’s Guide to Working Remotely by @karoljmajewski\n",
      "https://t.co/hLBigNp2rh\n",
      "\n",
      "#SAS #Rstats #Python #Code #Programming…\n",
      "Machine Learning Become a Citizen Data Scientist: Marketing perspective https://t.co/MKoCvuqN9o  #machinelearning #ad\n",
      "Machine Learning Artificial Intelligence in 3 Hours https://t.co/uVu9jOFHzs  #machinelearning #ad\n",
      "M. Zoltowski Make Memorable Data Science Projects by Ken Jee in @TDataScience https://t.co/rKBFjePUP0\n",
      "Adam Ruby First time I’ve seen this, brilliant from Chris @mrbloodred  \n",
      "\n",
      "Give it a watch https://t.co/0t52nuenmh\n",
      "Curious Luke RT @SamirSali13: Bill Gates' 15 predictions in 1999\n",
      "https://t.co/iwCoHPLzL4\n",
      "#BillGates #JeffBezos #billionaire #morningroutine \n",
      "#DigitalTra…\n",
      "Amunategui - ViralML.com It's like Amazon product reviews but for current futures positions!\n",
      "\n",
      "https://t.co/P3fci5ZKso\n",
      "\n",
      "#Economy #ViralML\n",
      "Ronald Richman RT @MaartenvSmeden: This my *top 10* of favorite methods papers of 2019 \n",
      "\n",
      "Appearing in a single thread and in random order https://t.co/qzb…\n",
      "fafa.👩🏻‍💻 Survival Analysis in R: Learn to work with time-to-event data. The event may be death or finding a job after unempl… https://t.co/QsmBQQgUGq\n"
     ]
    }
   ],
   "source": [
    "public_tweets = api.home_timeline()\n",
    "for tweet in public_tweets:\n",
    "    print(tweet.user.name, tweet.text)"
   ]
  },
  {
   "cell_type": "markdown",
   "metadata": {},
   "source": [
    "## II. Sentiment Analysis\n",
    "### API Requests\n",
    "At first, we fetch the data needed for the analysis to be done. For reusability purposes, we opt to create a function that gets an argument ('hastag') as input and returns a dataframe of the necessary information."
   ]
  },
  {
   "cell_type": "code",
   "execution_count": 5,
   "metadata": {},
   "outputs": [],
   "source": [
    "# Create a function to group all the actions to fetch data from the API\n",
    "def fetch_tweets(hashtag):\n",
    "    tweet_user = []\n",
    "    tweet_time = []\n",
    "    tweet_string = []\n",
    "   \n",
    "    for tweet in tweepy.Cursor(api.search,q=hashtag, count=1600).items(1600):\n",
    "            if (not tweet.retweeted) and (\"RT @\" not in tweet.text):\n",
    "                if tweet.lang == \"en\":\n",
    "                    tweet_user.append(tweet.user.name)\n",
    "                    tweet_time.append(tweet.created_at)\n",
    "                    tweet_string.append(tweet.text)\n",
    "                    \n",
    "    df = pd.DataFrame({\"username\":tweet_user, \"time\": tweet_time, \"tweet\": tweet_string})\n",
    "    return df"
   ]
  },
  {
   "cell_type": "code",
   "execution_count": 6,
   "metadata": {
    "scrolled": true
   },
   "outputs": [],
   "source": [
    "bond_df = fetch_tweets(\"Bond25\")"
   ]
  },
  {
   "cell_type": "code",
   "execution_count": 7,
   "metadata": {
    "scrolled": false
   },
   "outputs": [
    {
     "name": "stdout",
     "output_type": "stream",
     "text": [
      "(140, 3)\n"
     ]
    },
    {
     "data": {
      "text/html": [
       "<div>\n",
       "<style scoped>\n",
       "    .dataframe tbody tr th:only-of-type {\n",
       "        vertical-align: middle;\n",
       "    }\n",
       "\n",
       "    .dataframe tbody tr th {\n",
       "        vertical-align: top;\n",
       "    }\n",
       "\n",
       "    .dataframe thead th {\n",
       "        text-align: right;\n",
       "    }\n",
       "</style>\n",
       "<table border=\"1\" class=\"dataframe\">\n",
       "  <thead>\n",
       "    <tr style=\"text-align: right;\">\n",
       "      <th></th>\n",
       "      <th>username</th>\n",
       "      <th>time</th>\n",
       "      <th>tweet</th>\n",
       "    </tr>\n",
       "  </thead>\n",
       "  <tbody>\n",
       "    <tr>\n",
       "      <th>0</th>\n",
       "      <td>Springhouse</td>\n",
       "      <td>2019-12-23 12:18:17</td>\n",
       "      <td>#JamesBond #Bond25 #NoTimeToDie #BondJamesBond...</td>\n",
       "    </tr>\n",
       "    <tr>\n",
       "      <th>1</th>\n",
       "      <td>Springhouse</td>\n",
       "      <td>2019-12-23 11:35:05</td>\n",
       "      <td>#JamesBond #Bond25 #NoTimeToDie #BondJamesBond...</td>\n",
       "    </tr>\n",
       "    <tr>\n",
       "      <th>2</th>\n",
       "      <td>JamesBond007news.com</td>\n",
       "      <td>2019-12-23 10:44:08</td>\n",
       "      <td>burned-down Piggy's in Jamaica (where #NoTimeT...</td>\n",
       "    </tr>\n",
       "    <tr>\n",
       "      <th>3</th>\n",
       "      <td>UIPSA</td>\n",
       "      <td>2019-12-23 08:00:00</td>\n",
       "      <td>No introductions needed. You know who it is 😎 ...</td>\n",
       "    </tr>\n",
       "    <tr>\n",
       "      <th>4</th>\n",
       "      <td>Stephen Lehman</td>\n",
       "      <td>2019-12-23 05:08:17</td>\n",
       "      <td>He would be perfect.\\n#Bond25 #notimetodie htt...</td>\n",
       "    </tr>\n",
       "    <tr>\n",
       "      <th>5</th>\n",
       "      <td>James Askew</td>\n",
       "      <td>2019-12-23 03:54:52</td>\n",
       "      <td>Why does Freddie Mercury want to kill James Bo...</td>\n",
       "    </tr>\n",
       "    <tr>\n",
       "      <th>6</th>\n",
       "      <td>Chris</td>\n",
       "      <td>2019-12-23 03:27:10</td>\n",
       "      <td>#Bond25 commercial with Rami while we’re watch...</td>\n",
       "    </tr>\n",
       "    <tr>\n",
       "      <th>7</th>\n",
       "      <td>Rob B Movie Cult</td>\n",
       "      <td>2019-12-23 00:42:36</td>\n",
       "      <td>Just listened to this episode.  So much fun.  ...</td>\n",
       "    </tr>\n",
       "    <tr>\n",
       "      <th>8</th>\n",
       "      <td>Emmet Kennedy</td>\n",
       "      <td>2019-12-23 00:32:21</td>\n",
       "      <td>@Galway_don1 @BuckleyKevin @CheltenhamRaces @R...</td>\n",
       "    </tr>\n",
       "    <tr>\n",
       "      <th>9</th>\n",
       "      <td>Springhouse</td>\n",
       "      <td>2019-12-22 21:45:01</td>\n",
       "      <td>#JamesBond #Bond25 #NoTimeToDie #BondJamesBond...</td>\n",
       "    </tr>\n",
       "  </tbody>\n",
       "</table>\n",
       "</div>"
      ],
      "text/plain": [
       "               username                time  \\\n",
       "0           Springhouse 2019-12-23 12:18:17   \n",
       "1           Springhouse 2019-12-23 11:35:05   \n",
       "2  JamesBond007news.com 2019-12-23 10:44:08   \n",
       "3                 UIPSA 2019-12-23 08:00:00   \n",
       "4        Stephen Lehman 2019-12-23 05:08:17   \n",
       "5           James Askew 2019-12-23 03:54:52   \n",
       "6                 Chris 2019-12-23 03:27:10   \n",
       "7      Rob B Movie Cult 2019-12-23 00:42:36   \n",
       "8         Emmet Kennedy 2019-12-23 00:32:21   \n",
       "9           Springhouse 2019-12-22 21:45:01   \n",
       "\n",
       "                                               tweet  \n",
       "0  #JamesBond #Bond25 #NoTimeToDie #BondJamesBond...  \n",
       "1  #JamesBond #Bond25 #NoTimeToDie #BondJamesBond...  \n",
       "2  burned-down Piggy's in Jamaica (where #NoTimeT...  \n",
       "3  No introductions needed. You know who it is 😎 ...  \n",
       "4  He would be perfect.\\n#Bond25 #notimetodie htt...  \n",
       "5  Why does Freddie Mercury want to kill James Bo...  \n",
       "6  #Bond25 commercial with Rami while we’re watch...  \n",
       "7  Just listened to this episode.  So much fun.  ...  \n",
       "8  @Galway_don1 @BuckleyKevin @CheltenhamRaces @R...  \n",
       "9  #JamesBond #Bond25 #NoTimeToDie #BondJamesBond...  "
      ]
     },
     "execution_count": 7,
     "metadata": {},
     "output_type": "execute_result"
    }
   ],
   "source": [
    "print(bond_df.shape)\n",
    "bond_df.head(10)"
   ]
  },
  {
   "cell_type": "markdown",
   "metadata": {},
   "source": [
    "### Sentiment Scores\n",
    "At this point we are ready to use the TextBlob library and get back the sentiment score, which is based on polarity (more on this [here](https://textblob.readthedocs.io/en/dev/api_reference.html#textblob.blob.TextBlob.sentiment)). A 'lambda' function returning the polarity score for each tweet, is created and passed directly as an argument into the 'apply()' one. The latter applies the former one along the column 'tweet'."
   ]
  },
  {
   "cell_type": "code",
   "execution_count": 8,
   "metadata": {},
   "outputs": [],
   "source": [
    "# Import the TextBlob library to process textual data whilst engage with the sentiment analysis task.\n",
    "from textblob import TextBlob"
   ]
  },
  {
   "cell_type": "code",
   "execution_count": 9,
   "metadata": {},
   "outputs": [
    {
     "name": "stdout",
     "output_type": "stream",
     "text": [
      "Sentiment Score 1: Sentiment(polarity=0.5, subjectivity=0.6)\n",
      "Sentiment Score 2: Sentiment(polarity=-0.8, subjectivity=0.9)\n"
     ]
    }
   ],
   "source": [
    "# Check for functionality\n",
    "sent_score_1 = TextBlob(\"I really love the upcoming Bond25\").sentiment\n",
    "sent_score_2 = TextBlob(\"I really hate the upcoming Bond25\").sentiment\n",
    "print(\"Sentiment Score 1:\", sent_score_1)\n",
    "print(\"Sentiment Score 2:\", sent_score_2)"
   ]
  },
  {
   "cell_type": "code",
   "execution_count": 10,
   "metadata": {
    "scrolled": false
   },
   "outputs": [
    {
     "name": "stdout",
     "output_type": "stream",
     "text": [
      "               username                time  \\\n",
      "0           Springhouse 2019-12-23 12:18:17   \n",
      "1           Springhouse 2019-12-23 11:35:05   \n",
      "2  JamesBond007news.com 2019-12-23 10:44:08   \n",
      "3                 UIPSA 2019-12-23 08:00:00   \n",
      "4        Stephen Lehman 2019-12-23 05:08:17   \n",
      "\n",
      "                                               tweet  sentiment  \n",
      "0  #JamesBond #Bond25 #NoTimeToDie #BondJamesBond...        0.0  \n",
      "1  #JamesBond #Bond25 #NoTimeToDie #BondJamesBond...        0.0  \n",
      "2  burned-down Piggy's in Jamaica (where #NoTimeT...        0.0  \n",
      "3  No introductions needed. You know who it is 😎 ...        0.0  \n",
      "4  He would be perfect.\\n#Bond25 #notimetodie htt...        1.0  \n"
     ]
    }
   ],
   "source": [
    "# Add a new column that shows the sentiment value - polarity is chosen\n",
    "bond_df[\"sentiment\"] = bond_df[\"tweet\"].apply(lambda tweet: TextBlob(tweet).sentiment.polarity)\n",
    "print(bond_df.head())"
   ]
  },
  {
   "cell_type": "markdown",
   "metadata": {},
   "source": [
    "We then count the positive and negative scores of sentiments:"
   ]
  },
  {
   "cell_type": "code",
   "execution_count": 11,
   "metadata": {
    "scrolled": true
   },
   "outputs": [
    {
     "name": "stdout",
     "output_type": "stream",
     "text": [
      "Positive Tweets: 49\n",
      "Negative Tweets: 15\n"
     ]
    }
   ],
   "source": [
    "# Boolean indexing the df to distinguish postitive and negative sentiments\n",
    "bond_df_pos = bond_df[bond_df[\"sentiment\"] > 0.0]\n",
    "bond_df_neg = bond_df[bond_df[\"sentiment\"] < 0.0]\n",
    "print(\"Positive Tweets:\", len(bond_df_pos))\n",
    "print(\"Negative Tweets:\", len(bond_df_neg))"
   ]
  },
  {
   "cell_type": "code",
   "execution_count": 12,
   "metadata": {},
   "outputs": [],
   "source": [
    "# Wrap the tweet fetching and sentiment calculation to one function\n",
    "def calc_sentiment(hashtag):\n",
    "    df = fetch_tweets(hashtag)\n",
    "    df[\"sentiment\"] = df[\"tweet\"].apply(lambda tweet: TextBlob(tweet).sentiment.polarity)\n",
    "    df_pos = df[df[\"sentiment\"] > 0.0]\n",
    "    df_neg = df[df[\"sentiment\"] < 0.0]\n",
    "    print(\"Positive Tweets on #{}: \".format(hashtag), len(df_pos))\n",
    "    print(\"Negative Tweets on #{}: \".format(hashtag), len(df_neg))"
   ]
  },
  {
   "cell_type": "code",
   "execution_count": 13,
   "metadata": {
    "scrolled": false
   },
   "outputs": [
    {
     "name": "stdout",
     "output_type": "stream",
     "text": [
      "Positive Tweets on #Bond25:  49\n",
      "Negative Tweets on #Bond25:  15\n"
     ]
    }
   ],
   "source": [
    "calc_sentiment(\"Bond25\")"
   ]
  },
  {
   "cell_type": "markdown",
   "metadata": {},
   "source": [
    "### Data Visualization\n",
    "Finally, using the Python 2D plotting library 'Matplotlib', we can easily depict our results on a pie chart, using the following function:"
   ]
  },
  {
   "cell_type": "code",
   "execution_count": 14,
   "metadata": {},
   "outputs": [],
   "source": [
    "# Use the magic function that sets the backend of matplotlib to the 'inline' backend\n",
    "%matplotlib inline\n",
    "\n",
    "# Import the libraries to plot\n",
    "import seaborn as sns\n",
    "import matplotlib.pyplot as plt"
   ]
  },
  {
   "cell_type": "code",
   "execution_count": 15,
   "metadata": {},
   "outputs": [],
   "source": [
    "# Use a magic that doubles resolution plot output for Retina screens only\n",
    "%config InlineBackend.figure_format ='retina'"
   ]
  },
  {
   "cell_type": "code",
   "execution_count": 16,
   "metadata": {
    "scrolled": false
   },
   "outputs": [
    {
     "data": {
      "image/png": "[encoded data removed]",
      "text/plain": [
       "<Figure size 432x432 with 1 Axes>"
      ]
     },
     "metadata": {
      "image/png": {
       "height": 358,
       "width": 367
      }
     },
     "output_type": "display_data"
    }
   ],
   "source": [
    "fig1, ax1 = plt.subplots(figsize=(6,6))\n",
    "\n",
    "labels = ['Positive', 'Negative']\n",
    "sizes = [len(bond_df_pos), len(bond_df_neg)]\n",
    "explode = (0, 0.1)  # only \"explode\" the 2nd slice\n",
    "\n",
    "tb_10_green = (44/255,160/255,44/255)\n",
    "tb_10_red = (214/255,39/255,40/255)\n",
    "colors=[tb_10_green, tb_10_red]\n",
    "\n",
    "ax1.pie(sizes, explode=explode, labels=labels, autopct='%1.1f%%', colors=colors, shadow=True, startangle=90)\n",
    "ax1.axis('equal')  # Equal aspect ratio ensures that pie is drawn as a circle.\n",
    "ax1.set_title(\"Twitter Sentiment Analysis: #Bond25 Movie\", fontsize=16)\n",
    "    \n",
    "plt.show()"
   ]
  },
  {
   "cell_type": "code",
   "execution_count": 33,
   "metadata": {},
   "outputs": [],
   "source": [
    "# Wrap the ploting actions to one function\n",
    "def draw_sentiment(pos,neg,hashtag):\n",
    "    fig1, ax1 = plt.subplots(figsize=(6,6))\n",
    "    \n",
    "    labels = ['Positive', 'Negative']\n",
    "    sizes = [pos,neg]\n",
    "    explode = (0, 0.1)  # only \"explode\" the 2nd slice\n",
    "\n",
    "    tb_10_green = (44/255,160/255,44/255)\n",
    "    tb_10_red = (214/255,39/255,40/255)\n",
    "    colors=[tb_10_green, tb_10_red]\n",
    "\n",
    "    ax1.pie(sizes, explode=explode, labels=labels, autopct='%1.1f%%', colors=colors, shadow=True, startangle=90)\n",
    "    ax1.axis('equal')  # Equal aspect ratio ensures that pie is drawn as a circle.\n",
    "    #ax1.set_title(\"Twitter Sentiment Analysis on #{}: \".format(hashtag), fontsize=13)\n",
    "\n",
    "    plt.show()"
   ]
  },
  {
   "cell_type": "code",
   "execution_count": 34,
   "metadata": {},
   "outputs": [
    {
     "data": {
      "image/png": "[encoded data removed]",
      "text/plain": [
       "<Figure size 432x432 with 1 Axes>"
      ]
     },
     "metadata": {
      "image/png": {
       "height": 340,
       "width": 349
      }
     },
     "output_type": "display_data"
    }
   ],
   "source": [
    "draw_sentiment(len(bond_df_pos), len(bond_df_neg), \"Bond25\")"
   ]
  },
  {
   "cell_type": "markdown",
   "metadata": {},
   "source": [
    "A percentage of 78% among the analysed tweets have positive sentiment, regarding the upcoming '007' movie! It might be very interesting to further explore the this result across different countries. The next section enlightens us to this direction."
   ]
  },
  {
   "cell_type": "markdown",
   "metadata": {},
   "source": [
    "## III. Location Based Sentiment Analysis\n",
    "In this part of the project, we investigate any underlying trends of sentiment across the UK and the USA. Fortunately, Twitter provides the developers with quite a \"mellow\" API, where anyone can find a long list of \"root-level\" [attributes](https://developer.twitter.com/en/docs/tweets/data-dictionary/overview/tweet-object) for the Tweet object. In our case, the `location` one serves our purpose to fetch the necessary location data of the users tweeted on the topic, albeit not always represents a location, nor is it machine-parseable.\n",
    "\n",
    "At first, we enrich the 'fetch_tweets' function with a new boolean argument 'locate' that triggers the process of fetching the 'location' attribute."
   ]
  },
  {
   "cell_type": "code",
   "execution_count": 19,
   "metadata": {},
   "outputs": [],
   "source": [
    "# Enrich the fetch_tweets function to include (or not) location data of tweets\n",
    "def fetch_tweets(hashtag, locate):\n",
    "    tweet_user = []\n",
    "    tweet_user_location = []\n",
    "    tweet_time = []\n",
    "    tweet_string = []\n",
    "   \n",
    "    for tweet in tweepy.Cursor(api.search,q=hashtag, count=2000).items(2000):\n",
    "            if (not tweet.retweeted) and ('RT @' not in tweet.text):\n",
    "                if tweet.lang == \"en\":\n",
    "                    tweet_user.append(tweet.user.name)\n",
    "                    tweet_time.append(tweet.created_at)\n",
    "                    tweet_string.append(tweet.text)\n",
    "                    if locate:\n",
    "                        tweet_user_location.append(tweet.user.location)\n",
    "                        df = pd.DataFrame({'username':tweet_user, 'location':tweet_user_location, 'time': tweet_time, 'tweet': tweet_string})\n",
    "                    else:\n",
    "                        df = pd.DataFrame({'username':tweet_user, 'time': tweet_time, 'tweet': tweet_string})\n",
    "    \n",
    "    return df"
   ]
  },
  {
   "cell_type": "code",
   "execution_count": 20,
   "metadata": {
    "scrolled": true
   },
   "outputs": [],
   "source": [
    "loc_bond_df = fetch_tweets(\"Bond25\",locate=True)"
   ]
  },
  {
   "cell_type": "markdown",
   "metadata": {},
   "source": [
    "Following, we evaluate the unique locations of the newly introduced column and get a brief sense of how to effectively manipulate them:"
   ]
  },
  {
   "cell_type": "code",
   "execution_count": 21,
   "metadata": {
    "scrolled": true
   },
   "outputs": [
    {
     "data": {
      "text/plain": [
       "Sweden                            39\n",
       "                                  20\n",
       "USA                               10\n",
       "Mumbai, India                      5\n",
       "England, United Kingdom            4\n",
       "South Africa                       3\n",
       "Japan                              3\n",
       "Dublin, Ireland                    3\n",
       "Australia 🇦🇺                       2\n",
       "Barcelona ● España                 2\n",
       "San Antonio, TX                    2\n",
       "1912 L Street NW Washington DC     1\n",
       "London, England                    1\n",
       "Exeter, Devon, UK                  1\n",
       "Los Angeles, CA                    1\n",
       "At home                            1\n",
       "United States                      1\n",
       "Costa Rica                         1\n",
       "NYC ➡➡➡ Indianapolis               1\n",
       "South Australia, Australia         1\n",
       "Newcastle upon Tyne, UK            1\n",
       "World Wide Web                     1\n",
       "Brighton, England                  1\n",
       "NC/FL                              1\n",
       "Near Chichester harbour.           1\n",
       "London, Ontario                    1\n",
       "Scotland                           1\n",
       "Austin, TX                         1\n",
       "Observable Universe                1\n",
       "Buntland                           1\n",
       "Atlanta, GA  USA                   1\n",
       "UK | Global                        1\n",
       "Gaborone                           1\n",
       "Movie Theaters & Distributors      1\n",
       "Surrey boy living in Inverness     1\n",
       "Australia  🇦🇺                      1\n",
       "San Monique                        1\n",
       "Germany                            1\n",
       "Hollywood, CA                      1\n",
       "Paris, France                      1\n",
       "Mumbai                             1\n",
       "Athens, Greece                     1\n",
       "Kilkenny, Cork, London, C-53       1\n",
       "England                            1\n",
       "London                             1\n",
       "Newcastle, England                 1\n",
       "Greifswald to Hamburg              1\n",
       "London, UK                         1\n",
       "Hollywood                          1\n",
       "Shining City on the Hill           1\n",
       "Washington DC                      1\n",
       "Sandton, South Africa              1\n",
       "Locked in the trunk of a car       1\n",
       "Norway                             1\n",
       "Washington, D.C.                   1\n",
       "Torrimar,Guaynabo,Puerto Rico      1\n",
       "Planet Earth.                      1\n",
       "NYC ✈✈✈ Indianapolis               1\n",
       "Name: location, dtype: int64"
      ]
     },
     "execution_count": 21,
     "metadata": {},
     "output_type": "execute_result"
    }
   ],
   "source": [
    "loc_bond_df[\"location\"].value_counts()"
   ]
  },
  {
   "cell_type": "code",
   "execution_count": 22,
   "metadata": {},
   "outputs": [
    {
     "data": {
      "text/plain": [
       "array(['Sweden', 'Japan', 'South Africa', 'United States', '',\n",
       "       'Austin, TX', 'USA', 'Kilkenny, Cork, London, C-53',\n",
       "       'London, Ontario', 'NC/FL', 'Australia 🇦🇺 ', 'Dublin, Ireland',\n",
       "       'Near Chichester harbour. ', '1912 L Street NW Washington DC',\n",
       "       'England, United Kingdom', 'Newcastle upon Tyne, UK',\n",
       "       'Exeter, Devon, UK', 'Norway', 'Locked in the trunk of a car',\n",
       "       'Buntland ', 'Barcelona ● España', 'Gaborone',\n",
       "       'Torrimar,Guaynabo,Puerto Rico', 'Hollywood, CA',\n",
       "       'Australia  🇦🇺  ', 'London', 'Los Angeles, CA',\n",
       "       'Newcastle, England', 'London, UK', 'At home', 'Mumbai',\n",
       "       'Shining City on the Hill', 'Brighton, England',\n",
       "       'Washington, D.C.', 'Hollywood', 'South Australia, Australia',\n",
       "       'World Wide Web', 'London, England', 'Scotland', 'Mumbai, India',\n",
       "       'San Monique', 'Germany', 'Washington DC', 'Paris, France',\n",
       "       'NYC ➡➡➡ Indianapolis ', 'NYC ✈✈✈ Indianapolis',\n",
       "       'Greifswald to Hamburg', 'Athens, Greece', 'England',\n",
       "       'Observable Universe', 'UK | Global', 'Costa Rica',\n",
       "       'Surrey boy living in Inverness', 'Planet Earth.',\n",
       "       'Atlanta, GA  USA', 'Sandton, South Africa', 'San Antonio, TX',\n",
       "       'Movie Theaters & Distributors '], dtype=object)"
      ]
     },
     "execution_count": 22,
     "metadata": {},
     "output_type": "execute_result"
    }
   ],
   "source": [
    "loc_bond_df[\"location\"].unique()"
   ]
  },
  {
   "cell_type": "markdown",
   "metadata": {},
   "source": [
    "### Location Selection via RegEx\n",
    "Apparently, UK is declared with quite a few names by the users, including: UK, England, London, etc. To overpass this obstacle we act perceptively and opt to create a RegEx. In that way, we are capable to \"capture\" our location of interest through this \"blurry\" pool of names, by referring any bordering with London places (the same applies to the USA case). As you can see, the result is quite rewarding!"
   ]
  },
  {
   "cell_type": "code",
   "execution_count": 23,
   "metadata": {},
   "outputs": [],
   "source": [
    "# Import the module that provides regular expression matching operations\n",
    "import re\n",
    "\n",
    "# Constract a regex so as to match with most of the around-UK locations\n",
    "uk_pattern = r\"\\bEngland\\b|\\bUK\\b|\\bLondon\\b|\\bScotland\\b|\\bIreland\\b\"\n",
    "\n",
    "# Create a copy of the original df to avoid 'SettingwithCopyWarning'\n",
    "uk_bond_df = loc_bond_df.copy()\n",
    "\n",
    "# Add a new column to show the extracted locations\n",
    "uk_bond_df = uk_bond_df[uk_bond_df[\"location\"].str.contains(uk_pattern,flags=re.I)]"
   ]
  },
  {
   "cell_type": "code",
   "execution_count": 24,
   "metadata": {
    "scrolled": true
   },
   "outputs": [
    {
     "data": {
      "text/html": [
       "<div>\n",
       "<style scoped>\n",
       "    .dataframe tbody tr th:only-of-type {\n",
       "        vertical-align: middle;\n",
       "    }\n",
       "\n",
       "    .dataframe tbody tr th {\n",
       "        vertical-align: top;\n",
       "    }\n",
       "\n",
       "    .dataframe thead th {\n",
       "        text-align: right;\n",
       "    }\n",
       "</style>\n",
       "<table border=\"1\" class=\"dataframe\">\n",
       "  <thead>\n",
       "    <tr style=\"text-align: right;\">\n",
       "      <th></th>\n",
       "      <th>username</th>\n",
       "      <th>location</th>\n",
       "      <th>time</th>\n",
       "      <th>tweet</th>\n",
       "    </tr>\n",
       "  </thead>\n",
       "  <tbody>\n",
       "    <tr>\n",
       "      <th>8</th>\n",
       "      <td>Emmet Kennedy</td>\n",
       "      <td>Kilkenny, Cork, London, C-53</td>\n",
       "      <td>2019-12-23 00:32:21</td>\n",
       "      <td>@Galway_don1 @BuckleyKevin @CheltenhamRaces @R...</td>\n",
       "    </tr>\n",
       "    <tr>\n",
       "      <th>13</th>\n",
       "      <td>Fortune_Teller</td>\n",
       "      <td>London, Ontario</td>\n",
       "      <td>2019-12-22 17:19:48</td>\n",
       "      <td>@NicoleArbour @sonic_hedgehog No deal. My two ...</td>\n",
       "    </tr>\n",
       "    <tr>\n",
       "      <th>18</th>\n",
       "      <td>Robert Craven ☘  📖</td>\n",
       "      <td>Dublin, Ireland</td>\n",
       "      <td>2019-12-22 12:18:41</td>\n",
       "      <td>#lastminutegifts \\n#Christmas \\n#Dublin #Irela...</td>\n",
       "    </tr>\n",
       "    <tr>\n",
       "      <th>24</th>\n",
       "      <td>𝔾𝕖𝕠𝕣𝕘𝕖 ℝ𝕚𝕕𝕘𝕖𝕣𝕤 🎄</td>\n",
       "      <td>England, United Kingdom</td>\n",
       "      <td>2019-12-21 20:30:38</td>\n",
       "      <td>Unpopular opinion: Casion Royale is the best J...</td>\n",
       "    </tr>\n",
       "    <tr>\n",
       "      <th>27</th>\n",
       "      <td>Michael Livingstone</td>\n",
       "      <td>Newcastle upon Tyne, UK</td>\n",
       "      <td>2019-12-21 15:24:34</td>\n",
       "      <td>To buy, this week! #JamesBond #DanielCraig #No...</td>\n",
       "    </tr>\n",
       "    <tr>\n",
       "      <th>31</th>\n",
       "      <td>6th Exeter Scouts</td>\n",
       "      <td>Exeter, Devon, UK</td>\n",
       "      <td>2019-12-21 09:07:34</td>\n",
       "      <td>Nearly christmas but still time for one last e...</td>\n",
       "    </tr>\n",
       "    <tr>\n",
       "      <th>50</th>\n",
       "      <td>Martine Richards</td>\n",
       "      <td>London</td>\n",
       "      <td>2019-12-19 17:34:58</td>\n",
       "      <td>Saw a trailer for #Bond25 last weekend. Can’t ...</td>\n",
       "    </tr>\n",
       "    <tr>\n",
       "      <th>53</th>\n",
       "      <td>Stevo</td>\n",
       "      <td>Newcastle, England</td>\n",
       "      <td>2019-12-19 16:40:55</td>\n",
       "      <td>Fan Art Piece for @007 \\nBeen a fan of James B...</td>\n",
       "    </tr>\n",
       "    <tr>\n",
       "      <th>59</th>\n",
       "      <td>Count</td>\n",
       "      <td>London, UK</td>\n",
       "      <td>2019-12-19 10:02:06</td>\n",
       "      <td>The new Bond film is tipped to be Daniel Craig...</td>\n",
       "    </tr>\n",
       "    <tr>\n",
       "      <th>64</th>\n",
       "      <td>Creature Creature</td>\n",
       "      <td>Brighton, England</td>\n",
       "      <td>2019-12-18 21:12:48</td>\n",
       "      <td>THIRTY THOUSAND VIEWS?! If you haven’t seen ou...</td>\n",
       "    </tr>\n",
       "    <tr>\n",
       "      <th>68</th>\n",
       "      <td>Zanco Tiny T2</td>\n",
       "      <td>England, United Kingdom</td>\n",
       "      <td>2019-12-18 18:59:15</td>\n",
       "      <td>@startupgenesis Check Out The Zanco Tiny T2 It...</td>\n",
       "    </tr>\n",
       "    <tr>\n",
       "      <th>69</th>\n",
       "      <td>Zanco Tiny T2</td>\n",
       "      <td>England, United Kingdom</td>\n",
       "      <td>2019-12-18 18:57:57</td>\n",
       "      <td>Check Out The Zanco Tiny T2 It’s The World’s S...</td>\n",
       "    </tr>\n",
       "    <tr>\n",
       "      <th>75</th>\n",
       "      <td>Sea Lion Press</td>\n",
       "      <td>London, England</td>\n",
       "      <td>2019-12-18 10:54:14</td>\n",
       "      <td>How might the iconic character of #JamesBond h...</td>\n",
       "    </tr>\n",
       "    <tr>\n",
       "      <th>76</th>\n",
       "      <td>TGemm</td>\n",
       "      <td>Scotland</td>\n",
       "      <td>2019-12-18 10:07:09</td>\n",
       "      <td>OHMSS is FIFTY years old today! Read reelanarc...</td>\n",
       "    </tr>\n",
       "    <tr>\n",
       "      <th>82</th>\n",
       "      <td>Robert Craven ☘  📖</td>\n",
       "      <td>Dublin, Ireland</td>\n",
       "      <td>2019-12-18 06:27:04</td>\n",
       "      <td>Good morning Twitter, what are you reading tod...</td>\n",
       "    </tr>\n",
       "    <tr>\n",
       "      <th>88</th>\n",
       "      <td>Zanco Tiny T2</td>\n",
       "      <td>England, United Kingdom</td>\n",
       "      <td>2019-12-17 21:32:04</td>\n",
       "      <td>@thegadgetmonkey Check Out The World’s Smalles...</td>\n",
       "    </tr>\n",
       "    <tr>\n",
       "      <th>109</th>\n",
       "      <td>Reuben Wakeman</td>\n",
       "      <td>England</td>\n",
       "      <td>2019-12-17 12:22:13</td>\n",
       "      <td>A new picture of Daniel Craig from No Time To ...</td>\n",
       "    </tr>\n",
       "    <tr>\n",
       "      <th>114</th>\n",
       "      <td>Adam Loretz</td>\n",
       "      <td>UK | Global</td>\n",
       "      <td>2019-12-16 23:59:58</td>\n",
       "      <td>Movie trailers. Too much info and spoilers in ...</td>\n",
       "    </tr>\n",
       "    <tr>\n",
       "      <th>131</th>\n",
       "      <td>Robert Craven ☘  📖</td>\n",
       "      <td>Dublin, Ireland</td>\n",
       "      <td>2019-12-16 06:28:30</td>\n",
       "      <td>Good morning Twitter, what are you reading tod...</td>\n",
       "    </tr>\n",
       "  </tbody>\n",
       "</table>\n",
       "</div>"
      ],
      "text/plain": [
       "                username                      location                time  \\\n",
       "8          Emmet Kennedy  Kilkenny, Cork, London, C-53 2019-12-23 00:32:21   \n",
       "13        Fortune_Teller               London, Ontario 2019-12-22 17:19:48   \n",
       "18    Robert Craven ☘  📖               Dublin, Ireland 2019-12-22 12:18:41   \n",
       "24      𝔾𝕖𝕠𝕣𝕘𝕖 ℝ𝕚𝕕𝕘𝕖𝕣𝕤 🎄       England, United Kingdom 2019-12-21 20:30:38   \n",
       "27   Michael Livingstone       Newcastle upon Tyne, UK 2019-12-21 15:24:34   \n",
       "31     6th Exeter Scouts             Exeter, Devon, UK 2019-12-21 09:07:34   \n",
       "50      Martine Richards                        London 2019-12-19 17:34:58   \n",
       "53                 Stevo            Newcastle, England 2019-12-19 16:40:55   \n",
       "59                 Count                    London, UK 2019-12-19 10:02:06   \n",
       "64     Creature Creature             Brighton, England 2019-12-18 21:12:48   \n",
       "68         Zanco Tiny T2       England, United Kingdom 2019-12-18 18:59:15   \n",
       "69         Zanco Tiny T2       England, United Kingdom 2019-12-18 18:57:57   \n",
       "75        Sea Lion Press               London, England 2019-12-18 10:54:14   \n",
       "76                 TGemm                      Scotland 2019-12-18 10:07:09   \n",
       "82    Robert Craven ☘  📖               Dublin, Ireland 2019-12-18 06:27:04   \n",
       "88         Zanco Tiny T2       England, United Kingdom 2019-12-17 21:32:04   \n",
       "109       Reuben Wakeman                       England 2019-12-17 12:22:13   \n",
       "114          Adam Loretz                   UK | Global 2019-12-16 23:59:58   \n",
       "131   Robert Craven ☘  📖               Dublin, Ireland 2019-12-16 06:28:30   \n",
       "\n",
       "                                                 tweet  \n",
       "8    @Galway_don1 @BuckleyKevin @CheltenhamRaces @R...  \n",
       "13   @NicoleArbour @sonic_hedgehog No deal. My two ...  \n",
       "18   #lastminutegifts \\n#Christmas \\n#Dublin #Irela...  \n",
       "24   Unpopular opinion: Casion Royale is the best J...  \n",
       "27   To buy, this week! #JamesBond #DanielCraig #No...  \n",
       "31   Nearly christmas but still time for one last e...  \n",
       "50   Saw a trailer for #Bond25 last weekend. Can’t ...  \n",
       "53   Fan Art Piece for @007 \\nBeen a fan of James B...  \n",
       "59   The new Bond film is tipped to be Daniel Craig...  \n",
       "64   THIRTY THOUSAND VIEWS?! If you haven’t seen ou...  \n",
       "68   @startupgenesis Check Out The Zanco Tiny T2 It...  \n",
       "69   Check Out The Zanco Tiny T2 It’s The World’s S...  \n",
       "75   How might the iconic character of #JamesBond h...  \n",
       "76   OHMSS is FIFTY years old today! Read reelanarc...  \n",
       "82   Good morning Twitter, what are you reading tod...  \n",
       "88   @thegadgetmonkey Check Out The World’s Smalles...  \n",
       "109  A new picture of Daniel Craig from No Time To ...  \n",
       "114  Movie trailers. Too much info and spoilers in ...  \n",
       "131  Good morning Twitter, what are you reading tod...  "
      ]
     },
     "execution_count": 24,
     "metadata": {},
     "output_type": "execute_result"
    }
   ],
   "source": [
    "uk_bond_df"
   ]
  },
  {
   "cell_type": "code",
   "execution_count": 25,
   "metadata": {
    "scrolled": true
   },
   "outputs": [
    {
     "data": {
      "text/html": [
       "<div>\n",
       "<style scoped>\n",
       "    .dataframe tbody tr th:only-of-type {\n",
       "        vertical-align: middle;\n",
       "    }\n",
       "\n",
       "    .dataframe tbody tr th {\n",
       "        vertical-align: top;\n",
       "    }\n",
       "\n",
       "    .dataframe thead th {\n",
       "        text-align: right;\n",
       "    }\n",
       "</style>\n",
       "<table border=\"1\" class=\"dataframe\">\n",
       "  <thead>\n",
       "    <tr style=\"text-align: right;\">\n",
       "      <th></th>\n",
       "      <th>username</th>\n",
       "      <th>location</th>\n",
       "      <th>time</th>\n",
       "      <th>tweet</th>\n",
       "    </tr>\n",
       "  </thead>\n",
       "  <tbody>\n",
       "    <tr>\n",
       "      <th>7</th>\n",
       "      <td>Rob B Movie Cult</td>\n",
       "      <td>USA</td>\n",
       "      <td>2019-12-23 00:42:36</td>\n",
       "      <td>Just listened to this episode.  So much fun.  ...</td>\n",
       "    </tr>\n",
       "    <tr>\n",
       "      <th>29</th>\n",
       "      <td>Rob B Movie Cult</td>\n",
       "      <td>USA</td>\n",
       "      <td>2019-12-21 13:16:37</td>\n",
       "      <td>I've had Boy George's No Time to Die stuck in ...</td>\n",
       "    </tr>\n",
       "    <tr>\n",
       "      <th>47</th>\n",
       "      <td>Rob B Movie Cult</td>\n",
       "      <td>USA</td>\n",
       "      <td>2019-12-19 20:40:40</td>\n",
       "      <td>Highly recommend this hilarious #JamesBond pod...</td>\n",
       "    </tr>\n",
       "    <tr>\n",
       "      <th>49</th>\n",
       "      <td>Rob B Movie Cult</td>\n",
       "      <td>USA</td>\n",
       "      <td>2019-12-19 17:44:26</td>\n",
       "      <td>Even more so than For Your Eyes Only, I think ...</td>\n",
       "    </tr>\n",
       "    <tr>\n",
       "      <th>54</th>\n",
       "      <td>Rob B Movie Cult</td>\n",
       "      <td>USA</td>\n",
       "      <td>2019-12-19 13:55:39</td>\n",
       "      <td>Today's Dr. No inspired attire\\n\\n#Bond25 #Bon...</td>\n",
       "    </tr>\n",
       "    <tr>\n",
       "      <th>62</th>\n",
       "      <td>Rob B Movie Cult</td>\n",
       "      <td>USA</td>\n",
       "      <td>2019-12-19 00:50:03</td>\n",
       "      <td>Everything about OHMSS is why I love Bond.  Ca...</td>\n",
       "    </tr>\n",
       "    <tr>\n",
       "      <th>87</th>\n",
       "      <td>Rob B Movie Cult</td>\n",
       "      <td>USA</td>\n",
       "      <td>2019-12-17 23:07:17</td>\n",
       "      <td>What is Daniel Craig's favorite type of Christ...</td>\n",
       "    </tr>\n",
       "    <tr>\n",
       "      <th>89</th>\n",
       "      <td>Rob B Movie Cult</td>\n",
       "      <td>USA</td>\n",
       "      <td>2019-12-17 21:17:59</td>\n",
       "      <td>I just hit 1,000 followers.  Where are the fuc...</td>\n",
       "    </tr>\n",
       "    <tr>\n",
       "      <th>100</th>\n",
       "      <td>Glacé Entertainment PR™</td>\n",
       "      <td>NYC ➡➡➡ Indianapolis</td>\n",
       "      <td>2019-12-17 16:51:37</td>\n",
       "      <td>@ToniEmbry, we ALLL already know you'd make on...</td>\n",
       "    </tr>\n",
       "    <tr>\n",
       "      <th>101</th>\n",
       "      <td>Toni Embry</td>\n",
       "      <td>NYC ✈✈✈ Indianapolis</td>\n",
       "      <td>2019-12-17 16:40:26</td>\n",
       "      <td>💎💎💎s really are the only things that are forev...</td>\n",
       "    </tr>\n",
       "    <tr>\n",
       "      <th>121</th>\n",
       "      <td>Rob B Movie Cult</td>\n",
       "      <td>USA</td>\n",
       "      <td>2019-12-16 17:37:30</td>\n",
       "      <td>@OrlebarBrown @NPeal1936 \\n\\nCan you guys make...</td>\n",
       "    </tr>\n",
       "    <tr>\n",
       "      <th>122</th>\n",
       "      <td>Roger Jones</td>\n",
       "      <td>Atlanta, GA  USA</td>\n",
       "      <td>2019-12-16 16:12:28</td>\n",
       "      <td>Bond is not #Bond anymore. \\nHere has been neu...</td>\n",
       "    </tr>\n",
       "    <tr>\n",
       "      <th>123</th>\n",
       "      <td>Rob B Movie Cult</td>\n",
       "      <td>USA</td>\n",
       "      <td>2019-12-16 14:56:52</td>\n",
       "      <td>I want to do a special #JamesBond giveaway if ...</td>\n",
       "    </tr>\n",
       "  </tbody>\n",
       "</table>\n",
       "</div>"
      ],
      "text/plain": [
       "                    username               location                time  \\\n",
       "7           Rob B Movie Cult                    USA 2019-12-23 00:42:36   \n",
       "29          Rob B Movie Cult                    USA 2019-12-21 13:16:37   \n",
       "47          Rob B Movie Cult                    USA 2019-12-19 20:40:40   \n",
       "49          Rob B Movie Cult                    USA 2019-12-19 17:44:26   \n",
       "54          Rob B Movie Cult                    USA 2019-12-19 13:55:39   \n",
       "62          Rob B Movie Cult                    USA 2019-12-19 00:50:03   \n",
       "87          Rob B Movie Cult                    USA 2019-12-17 23:07:17   \n",
       "89          Rob B Movie Cult                    USA 2019-12-17 21:17:59   \n",
       "100  Glacé Entertainment PR™  NYC ➡➡➡ Indianapolis  2019-12-17 16:51:37   \n",
       "101               Toni Embry   NYC ✈✈✈ Indianapolis 2019-12-17 16:40:26   \n",
       "121         Rob B Movie Cult                    USA 2019-12-16 17:37:30   \n",
       "122              Roger Jones       Atlanta, GA  USA 2019-12-16 16:12:28   \n",
       "123         Rob B Movie Cult                    USA 2019-12-16 14:56:52   \n",
       "\n",
       "                                                 tweet  \n",
       "7    Just listened to this episode.  So much fun.  ...  \n",
       "29   I've had Boy George's No Time to Die stuck in ...  \n",
       "47   Highly recommend this hilarious #JamesBond pod...  \n",
       "49   Even more so than For Your Eyes Only, I think ...  \n",
       "54   Today's Dr. No inspired attire\\n\\n#Bond25 #Bon...  \n",
       "62   Everything about OHMSS is why I love Bond.  Ca...  \n",
       "87   What is Daniel Craig's favorite type of Christ...  \n",
       "89   I just hit 1,000 followers.  Where are the fuc...  \n",
       "100  @ToniEmbry, we ALLL already know you'd make on...  \n",
       "101  💎💎💎s really are the only things that are forev...  \n",
       "121  @OrlebarBrown @NPeal1936 \\n\\nCan you guys make...  \n",
       "122  Bond is not #Bond anymore. \\nHere has been neu...  \n",
       "123  I want to do a special #JamesBond giveaway if ...  "
      ]
     },
     "execution_count": 25,
     "metadata": {},
     "output_type": "execute_result"
    }
   ],
   "source": [
    "# Act as in the UK case...\n",
    "us_pattern = r\"\\bUSA\\b|\\bUS\\b|\\bNYC\\b\"\n",
    "us_bond_df = loc_bond_df.copy()\n",
    "us_bond_df = us_bond_df[us_bond_df[\"location\"].str.contains(us_pattern,flags=re.I)]\n",
    "us_bond_df"
   ]
  },
  {
   "cell_type": "markdown",
   "metadata": {},
   "source": [
    "### Sentiment Scores & Data Visualization\n",
    "Finally, the `calc_sentiment` function can also be optimised; this time we additionally pass the location-based dataframe (UK or US) as an argument, getting finally the following results:"
   ]
  },
  {
   "cell_type": "code",
   "execution_count": 35,
   "metadata": {},
   "outputs": [],
   "source": [
    "# Update the combined function of tweet fetching and sentiment calculation\n",
    "def calc_sentiment(hashtag, dataframe):\n",
    "    df = dataframe\n",
    "    df[\"sentiment\"] = df[\"tweet\"].apply(lambda tweet: TextBlob(tweet).sentiment.polarity)\n",
    "    df_pos = df[df[\"sentiment\"] > 0.0]\n",
    "    df_neg = df[df[\"sentiment\"] < 0.0]\n",
    "    print(\"Positive Tweets on #{}: \".format(hashtag), len(df_pos))\n",
    "    print(\"Negative Tweets on #{}: \".format(hashtag), len(df_neg))\n",
    "    return (len(df_pos), len(df_neg))"
   ]
  },
  {
   "cell_type": "code",
   "execution_count": 40,
   "metadata": {
    "scrolled": true
   },
   "outputs": [
    {
     "name": "stdout",
     "output_type": "stream",
     "text": [
      "Positive Tweets on #Bond25:  12\n",
      "Negative Tweets on #Bond25:  1\n",
      "(12, 1)\n"
     ]
    }
   ],
   "source": [
    "uk_sentiment = calc_sentiment(\"Bond25\", uk_bond_df)\n",
    "print(uk_sentiment)"
   ]
  },
  {
   "cell_type": "code",
   "execution_count": 41,
   "metadata": {},
   "outputs": [
    {
     "data": {
      "image/png": "[encoded data removed]",
      "text/plain": [
       "<Figure size 432x432 with 1 Axes>"
      ]
     },
     "metadata": {
      "image/png": {
       "height": 340,
       "width": 349
      }
     },
     "output_type": "display_data"
    }
   ],
   "source": [
    "draw_sentiment(uk_sentiment[0], uk_sentiment[1], \"Bond25\")"
   ]
  },
  {
   "cell_type": "code",
   "execution_count": 29,
   "metadata": {
    "scrolled": true
   },
   "outputs": [
    {
     "name": "stdout",
     "output_type": "stream",
     "text": [
      "Positive Tweets on #Bond25:  7\n",
      "Negative Tweets on #Bond25:  2\n",
      "(7, 2)\n"
     ]
    }
   ],
   "source": [
    "us_sentiment = calc_sentiment(\"Bond25\", us_bond_df)\n",
    "print(us_sentiment)"
   ]
  },
  {
   "cell_type": "code",
   "execution_count": 38,
   "metadata": {
    "scrolled": false
   },
   "outputs": [
    {
     "data": {
      "image/png": "[encoded data removed]",
      "text/plain": [
       "<Figure size 432x432 with 1 Axes>"
      ]
     },
     "metadata": {
      "image/png": {
       "height": 340,
       "width": 349
      }
     },
     "output_type": "display_data"
    }
   ],
   "source": [
    "draw_sentiment(us_sentiment[0], us_sentiment[1], \"Bond25\")"
   ]
  },
  {
   "cell_type": "markdown",
   "metadata": {},
   "source": [
    "More than expected, Britons accept in a more expressive way their '00' agent and anticipate the upcoming movie. A 'generous' 92% percentage of the analysed sample of tweets give credits to the movie. On the other side (of Atlantic), Americans do not show such an excitement. Nevertheless, they also express positive sentiment toward the film of about 78 % of the sampled tweets."
   ]
  },
  {
   "cell_type": "markdown",
   "metadata": {},
   "source": [
    "## Conclusions\n",
    "Just like many major industries, the film one can also get rewarded by adapting state of the art techniques coming from the Data Science. The age of extracting meaningful insights from social media data has already arrived and promises much.\n",
    "\n",
    "In this project we introduced a basic version of Sentiment Analysis, extrapolated  the audience feelings in respect to the entitled movie and easily came to a couple of prolific inferences, by implementing the technique across different locations. The resulting numbers of tweets may be very low (for a free developer account of Twitter), but what interests us mostly is not the absolute values themselves, but rather the underlying \"mechanisms\" of the analysis. In this context, anyone could easily argue in favour the technique and how could it be further developed and refined by the film industry, proportionately.\n",
    "## Additional Analysis\n",
    "\n",
    "There is quite a number of additional analyses to be performed, expanding this one. You are welcome to extend and shape yours in any direction you may prefer. For instance, how was the audience used to reacting on Twitter before the movie trailer went out on December 4th and how after that? \n",
    "*Hint: A respective analysis based on the created_at attribute can be easily developed.*"
   ]
  }
 ],
 "metadata": {
  "kernelspec": {
   "display_name": "Python 3",
   "language": "python",
   "name": "python3"
  },
  "language_info": {
   "codemirror_mode": {
    "name": "ipython",
    "version": 3
   },
   "file_extension": ".py",
   "mimetype": "text/x-python",
   "name": "python",
   "nbconvert_exporter": "python",
   "pygments_lexer": "ipython3",
   "version": "3.7.3"
  }
 },
 "nbformat": 4,
 "nbformat_minor": 2
}
